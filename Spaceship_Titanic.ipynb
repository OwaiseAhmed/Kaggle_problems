import pandas as pd 
import numpy as np
from sklearn.preprocessing import StandardScaler
from sklearn.metrics import accuracy_score
from sklearn import preprocessing


data = pd.read_csv("train.csv")
test = pd.read_csv("test.csv")
test_passen  = test["PassengerId"]
data_passen = data["PassengerId"]
test.head()


data["Cabin"].fillna("U/U/U",inplace = True)
test["Cabin"].fillna("U/U/U",inplace = True)

deck = np.array([])
side = np.array([])
num =  np.array([])
group_num = np.array([])

deck_test = np.array([])
side_test = np.array([])
num_test   = np.array([])
group_num_test = np.array([])



# this is for the test
for d_test in test["Cabin"]:
  deck_test = np.append(deck_test,d_test[0])
  num_test = np.append(num_test,d_test[4])
  side_test = np.append(side_test,d_test[2])

for g_test in data["PassengerId"]:
  group_num_test = np.append(group_num_test,g_test[:4])




# this is for the data
for g in data["PassengerId"]:
  group_num = np.append(group_num,g[:4])

for d in data["Cabin"]:
  deck = np.append(deck,d[0])
  num = np.append(num,d[2])
  side = np.append(side,d[4])


deck = pd.Series(deck)
num = pd.Series(num)
side = pd.Series(side)
group_num = pd.Series(group_num)


deck_test = pd.Series(deck_test)
num_test = pd.Series(num_test)
side_test = pd.Series(side_test)
group_num_test = pd.Series(group_num_test)



data = data.drop(["Cabin"],axis = 1)
test  = test.drop(["Cabin"],axis = 1)

data["deck"] = deck
data["num"] = num
data["side"] = side
data["group_num"] = group_num


test["deck"] = deck_test
test["num"] = num_test
test["side"] = side_test
test["group_num"]  = group_num_test


le = preprocessing.LabelEncoder()


cols = ["CryoSleep","VIP","Destination","HomePlanet"]


for col in cols:
  data[col]  = le.fit_transform(data[col])
  test[col]  = le.fit_transform(test[col])
  print(le.classes_)


# lableing data
data["Transported"] = le.fit_transform(data["Transported"])
data["deck"] = le.fit_transform(data["deck"])
data["side"] = le.fit_transform(data["side"])
data["num"] = le.fit_transform(data["num"])



# labelling test
test["deck"] = le.fit_transform(test["deck"])
test["side"] = le.fit_transform(test["side"])
test["num"] = le.fit_transform(test["num"])


data.head()



def clean(data):
  # data = data.drop(["PassengerId","HomePlanet","RoomService","FoodCourt","ShoppingMall","Spa","VRDeck","Name"],axis = 1)
  data = data.drop(["Name"], axis = 1)
  cols = ["group_num","CryoSleep","deck","side","HomePlanet","Destination","VRDeck","ShoppingMall","Spa","FoodCourt","RoomService","Age"]
  for col in cols:
    # sets the value in the null to the median of the column
    # will give a new dataframe object if inplace is not set to true
    # note that the mean of any column is possible if and only if it is a float or may be an int    

    data[col].fillna(data[col].median(),inplace = True)
  return data

data = clean(data)
test= clean(test)

data.head()

from sklearn.model_selection import train_test_split


from sklearn.linear_model import LogisticRegression
y = data["Transported"]
X = data.drop("Transported",axis = 1)

X_train, X_val, y_train, y_val = train_test_split(X,y,test_size = 0.3,random_state = 42)

clf = LogisticRegression()
clf = clf.fit(X_train,y_train)
y_pred = clf.predict(X_val)
submission_preds = clf.predict(test)
accuracy_score(y_val,y_pred)
data["num"] = le.fit_transform(data["num"])
submission_preds = submission_preds.astype(np.bool)
print("this is", submission_preds)


df = pd.DataFrame({"PassengerId":test_passen.values,
                    "Transported" : submission_preds,
                   })


df.to_csv("submission_tianic2_all_bool.csv",index = False)


from sklearn.naive_bayes import GaussianNB
clf  = GaussianNB()
clf = clf.fit(X_train,y_train)
y_pred_gauss_naive = clf.predict(X_val)
submission_preds = clf.predict(test)
accuracy_score(y_val,y_pred_gauss_naive)


from sklearn.naive_bayes import BernoulliNB
clf = BernoulliNB()
clf = clf.fit(X_train, y_train)
y_pred_multi_naive = clf.predict(X_val)
submission_preds = clf.predict(test)
accuracy_score(y_val,y_pred_gauss_naive)


from sklearn.naive_bayes import MultinomialNB
clf = MultinomialNB()
clf = clf.fit(X_train, y_train)

y_pred  = clf.predict(X_val)
submission_preds = clf.predict(test)
accuracy_score(y_val,y_pred)


from sklearn.svm import SVC
clf = SVC()
clf = clf.fit(X_train,y_train)

y_pred_svm = clf.predict(X_val)
print(accuracy_score(y_val,y_pred_svm))

submission_preds = clf.predict(test)
submission_preds

from sklearn.neighbors import KNeighborsClassifier
clf = KNeighborsClassifier(n_neighbors = 30)
clf  = clf.fit(X_train, y_train)
y_pred_knn = clf.predict(X_val)
submission_preds = clf.predict(test)
accuracy_score(y_val, y_pred_knn)

